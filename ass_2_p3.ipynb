{
  "nbformat": 4,
  "nbformat_minor": 0,
  "metadata": {
    "colab": {
      "provenance": [],
      "authorship_tag": "ABX9TyNnIByo+GFyhSDzUVg79hQB",
      "include_colab_link": true
    },
    "kernelspec": {
      "name": "python3",
      "display_name": "Python 3"
    },
    "language_info": {
      "name": "python"
    }
  },
  "cells": [
    {
      "cell_type": "markdown",
      "metadata": {
        "id": "view-in-github",
        "colab_type": "text"
      },
      "source": [
        "<a href=\"https://colab.research.google.com/github/2303a52342-39/23CSBTB39-40/blob/main/ass_2_p3.ipynb\" target=\"_parent\"><img src=\"https://colab.research.google.com/assets/colab-badge.svg\" alt=\"Open In Colab\"/></a>"
      ]
    },
    {
      "cell_type": "markdown",
      "source": [
        "![WhatsApp Image 2024-08-20 at 11.48.57 PM.jpeg](data:image/jpeg;base64,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)"
      ],
      "metadata": {
        "id": "99LPrzEEWSy1"
      }
    },
    {
      "cell_type": "code",
      "execution_count": 1,
      "metadata": {
        "colab": {
          "base_uri": "https://localhost:8080/"
        },
        "id": "vizZxB-7V7HK",
        "outputId": "2569ba72-f4a5-427f-e17f-7d08b9dcd23c"
      },
      "outputs": [
        {
          "output_type": "stream",
          "name": "stdout",
          "text": [
            " The 8 puzzle is solvable \n",
            "\n",
            "   2 8 3\n",
            "   1 6 4\n",
            "   7 0 5\n",
            "\n",
            "   2 8 3\n",
            "   1 0 4\n",
            "   7 6 5\n",
            "\n",
            "   2 0 3\n",
            "   1 8 4\n",
            "   7 6 5\n",
            "\n",
            "   0 2 3\n",
            "   1 8 4\n",
            "   7 6 5\n",
            "\n",
            "   1 2 3\n",
            "   0 8 4\n",
            "   7 6 5\n",
            "\n",
            "   1 2 3\n",
            "   8 0 4\n",
            "   7 6 5\n",
            "\n",
            "Steps to reach goal: 5\n",
            "Total nodes visited:  6 \n",
            "\n"
          ]
        },
        {
          "output_type": "stream",
          "name": "stderr",
          "text": [
            "<ipython-input-1-9f8f8437b2bc>:49: DeprecationWarning: Conversion of an array with ndim > 0 to a scalar is deprecated, and will error in future. Ensure you extract a single element from your array before performing this operation. (Deprecated NumPy 1.25.)\n",
            "  blank = int(np.where(puzzle == 0)[0])\n"
          ]
        }
      ],
      "source": [
        "from copy import deepcopy\n",
        "import numpy as np\n",
        "import time\n",
        "def bestsolution(state):\n",
        "     bestsol = np.array([], int).reshape(-1, 9)\n",
        "     count = len(state) - 1\n",
        "     while count != -1:\n",
        "       bestsol = np.insert(bestsol, 0, state[count]['puzzle'], 0)\n",
        "       count = (state[count]['parent'])\n",
        "     return bestsol.reshape(-1, 3, 3)\n",
        "# checks for the uniqueness of the iteration(it).\n",
        "def all(checkarray):\n",
        " set=[]\n",
        " for it in set:\n",
        "   for checkarray in it:\n",
        "      return 1\n",
        " else:\n",
        "    return 0\n",
        "# number of misplaced tiles\n",
        "def misplaced_tiles(puzzle,goal):\n",
        "    mscost = np.sum(puzzle != goal) - 1\n",
        "    return mscost if mscost > 0 else 0\n",
        "def coordinates(puzzle):\n",
        " pos = np.array(range(9))\n",
        " for p, q in enumerate(puzzle):\n",
        "       pos[q] = p\n",
        " return pos\n",
        "# start of 8 puzzle evaluvation, using Misplaced tiles heuristics\n",
        "def evaluvate_misplaced(puzzle, goal):\n",
        " steps = np.array([('up', [0, 1, 2], -3),('down', [6, 7, 8], 3),('left', [0, 3, 6], -1),('right', [2, 5, 8], 1)],\n",
        "   dtype = [('move', str, 1),('position', list),('head', int)])\n",
        " dtstate = [('puzzle', list),('parent', int),('gn', int),('hn', int)]\n",
        " costg = coordinates(goal)\n",
        " # initializing the parent, gn and hn, where hn is misplaced_tiles function call\n",
        " parent = -1\n",
        " gn = 0\n",
        " hn = misplaced_tiles(coordinates(puzzle), costg)\n",
        " state = np.array([(puzzle, parent, gn, hn)], dtstate)\n",
        " #priority queues with position as keys and fn as value.\n",
        " dtpriority = [('position', int),('fn', int)]\n",
        " priority = np.array([(0, hn)], dtpriority)\n",
        " while 1:\n",
        "    priority = np.sort(priority, kind='mergesort', order=['fn', 'position'])\n",
        "    position, fn = priority[0]\n",
        "    # sort priority queue using merge sort,the first element is picked for exploring.\n",
        "    priority = np.delete(priority, 0, 0)\n",
        "    puzzle, parent, gn, hn = state[position]\n",
        "    puzzle = np.array(puzzle)\n",
        "    blank = int(np.where(puzzle == 0)[0])\n",
        "    gn = gn + 1\n",
        "    c = 1\n",
        "    start_time = time.time()\n",
        "    for s in steps:\n",
        "      c = c + 1\n",
        "      if blank not in s['position']:\n",
        "          openstates = deepcopy(puzzle)\n",
        "          openstates[blank], openstates[blank + s['head']] = openstates[blank + s['head']],openstates[blank]\n",
        "          if ~(np.all(list(state['puzzle']) == openstates, 1)).any():\n",
        "            end_time = time.time()\n",
        "            if (( end_time - start_time ) > 2):\n",
        "              print(\" The 8 puzzle is unsolvable \\n\")\n",
        "              break\n",
        "            hn = misplaced_tiles(coordinates(openstates), costg)\n",
        "            # generate and add new state in the list\n",
        "            q = np.array([(openstates, position, gn, hn)], dtstate)\n",
        "            state = np.append(state, q, 0)\n",
        "            # f(n) is the sum of cost to reach node\n",
        "            fn = gn + hn\n",
        "            q = np.array([(len(state) - 1, fn)], dtpriority)\n",
        "            priority = np.append(priority, q, 0)\n",
        "            if np.array_equal(openstates, goal):\n",
        "               print(' The 8 puzzle is solvable \\n')\n",
        "               return state, len(priority)\n",
        "\n",
        "# initial state\n",
        "puzzle = []\n",
        "puzzle.append(2)\n",
        "puzzle.append(8)\n",
        "puzzle.append(3)\n",
        "puzzle.append(1)\n",
        "puzzle.append(6)\n",
        "puzzle.append(4)\n",
        "puzzle.append(7)\n",
        "puzzle.append(0)\n",
        "puzzle.append(5)\n",
        "#goal state\n",
        "goal = []\n",
        "goal.append(1)\n",
        "goal.append(2)\n",
        "goal.append(3)\n",
        "goal.append(8)\n",
        "goal.append(0)\n",
        "goal.append(4)\n",
        "goal.append(7)\n",
        "goal.append(6)\n",
        "goal.append(5)\n",
        "state, visited = evaluvate_misplaced(puzzle, goal)\n",
        "bestpath = bestsolution(state)\n",
        "print(str(bestpath).replace('[', ' ').replace(']', ''))\n",
        "totalmoves = len(bestpath) - 1\n",
        "print('\\nSteps to reach goal:',totalmoves)\n",
        "visit = len(state) - visited\n",
        "print('Total nodes visited: ',visit, \"\\n\")"
      ]
    }
  ]
}