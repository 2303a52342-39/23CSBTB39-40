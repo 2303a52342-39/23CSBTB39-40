{
  "nbformat": 4,
  "nbformat_minor": 0,
  "metadata": {
    "colab": {
      "provenance": [],
      "authorship_tag": "ABX9TyN2znu6lJdClBy4y3KQNhFi",
      "include_colab_link": true
    },
    "kernelspec": {
      "name": "python3",
      "display_name": "Python 3"
    },
    "language_info": {
      "name": "python"
    }
  },
  "cells": [
    {
      "cell_type": "markdown",
      "metadata": {
        "id": "view-in-github",
        "colab_type": "text"
      },
      "source": [
        "<a href=\"https://colab.research.google.com/github/2303a52342-39/23CSBTB39-40/blob/main/Ass_4_Part2.ipynb\" target=\"_parent\"><img src=\"https://colab.research.google.com/assets/colab-badge.svg\" alt=\"Open In Colab\"/></a>"
      ]
    },
    {
      "cell_type": "code",
      "execution_count": 1,
      "metadata": {
        "colab": {
          "base_uri": "https://localhost:8080/"
        },
        "id": "bR0VDhv7R5W_",
        "outputId": "3dc5f0f7-daf0-4565-a62f-622f1f1a0401"
      },
      "outputs": [
        {
          "output_type": "stream",
          "name": "stdout",
          "text": [
            "Intercept: -0.25866793736857363\n",
            "Slope: 3.2565727918336482\n",
            "CDF of the predictions: [0.96972011 0.41087662 0.46777046 0.64858215 0.06942167 0.27547425\n",
            " 0.44212101 0.75253698 0.44905273 0.91204592 0.06577033 0.348487\n",
            " 0.78178965 0.5529886  0.93507765 0.17121657 0.48347098 0.02381918\n",
            " 0.85844312 0.39413471]\n"
          ]
        }
      ],
      "source": [
        " import numpy as np\n",
        " from sklearn.model_selection import train_test_split\n",
        " X = np.random.rand(100, 1)\n",
        " Y = 3 * X.squeeze() + np.random.randn(100)\n",
        "\n",
        " X_train, X_test, Y_train, Y_test = train_test_split(X, Y, test_size=0.2, random_state=42)\n",
        " from sklearn.linear_model import LinearRegression\n",
        "\n",
        " model = LinearRegression()\n",
        " model.fit(X_train, Y_train)\n",
        " import scipy.stats as stats\n",
        " intercept = model.intercept_\n",
        " slope = model.coef_[0]\n",
        " Y_pred = model.predict(X_test)\n",
        " cdf_values = stats.norm.cdf(Y_pred, np.mean(Y_pred), np.std(Y_pred))\n",
        " print(f\"Intercept: {intercept}\")\n",
        " print(f\"Slope: {slope}\")\n",
        " print(f\"CDF of the predictions: {cdf_values}\")"
      ]
    }
  ]
}
