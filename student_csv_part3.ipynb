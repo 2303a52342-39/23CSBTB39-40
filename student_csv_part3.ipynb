{
  "nbformat": 4,
  "nbformat_minor": 0,
  "metadata": {
    "colab": {
      "provenance": [],
      "authorship_tag": "ABX9TyM12ftfXZaPsAOqgmPLdDZ6",
      "include_colab_link": true
    },
    "kernelspec": {
      "name": "python3",
      "display_name": "Python 3"
    },
    "language_info": {
      "name": "python"
    }
  },
  "cells": [
    {
      "cell_type": "markdown",
      "metadata": {
        "id": "view-in-github",
        "colab_type": "text"
      },
      "source": [
        "<a href=\"https://colab.research.google.com/github/2303a52342-39/23CSBTB39-40/blob/main/student_csv_part3.ipynb\" target=\"_parent\"><img src=\"https://colab.research.google.com/assets/colab-badge.svg\" alt=\"Open In Colab\"/></a>"
      ]
    },
    {
      "cell_type": "code",
      "execution_count": 3,
      "metadata": {
        "colab": {
          "base_uri": "https://localhost:8080/"
        },
        "id": "e_BtZEWbRSzk",
        "outputId": "3a85e253-fe8d-49a4-ff84-321cb46a83a9"
      },
      "outputs": [
        {
          "output_type": "stream",
          "name": "stdout",
          "text": [
            "    st id st name coures  contact\n",
            "0    2110     adc    cse    12233\n",
            "1    2111     sdc    cse     1723\n",
            "2    2112     eds    ece     2498\n",
            "3    2113     tgv    bba    89737\n",
            "4    2114     res    bba     9773\n",
            "5    2115     inj  civil    20974\n",
            "6    2116     ocs  civil     8734\n",
            "7    2117     ehc    cse      987\n",
            "8    2118     vsh    ece     4545\n",
            "9    2119     dyw  civil     3245\n",
            "10   2120     mxj    ece     2345\n"
          ]
        }
      ],
      "source": [
        "import pandas as pd\n",
        "df=pd.read_csv(\"student.csv\")\n",
        "print(df)"
      ]
    }
  ]
}