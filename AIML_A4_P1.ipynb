{
  "nbformat": 4,
  "nbformat_minor": 0,
  "metadata": {
    "colab": {
      "provenance": [],
      "authorship_tag": "ABX9TyPIc+4Rik0/55CDX6A4cRfa",
      "include_colab_link": true
    },
    "kernelspec": {
      "name": "python3",
      "display_name": "Python 3"
    },
    "language_info": {
      "name": "python"
    }
  },
  "cells": [
    {
      "cell_type": "markdown",
      "metadata": {
        "id": "view-in-github",
        "colab_type": "text"
      },
      "source": [
        "<a href=\"https://colab.research.google.com/github/2303a52342-39/23CSBTB39-40/blob/main/AIML_A4_P1.ipynb\" target=\"_parent\"><img src=\"https://colab.research.google.com/assets/colab-badge.svg\" alt=\"Open In Colab\"/></a>"
      ]
    },
    {
      "cell_type": "code",
      "execution_count": null,
      "metadata": {
        "colab": {
          "base_uri": "https://localhost:8080/"
        },
        "id": "9PmTtm3vGVKH",
        "outputId": "6d615d5f-525d-45d2-9de3-f2c7f455fc8d"
      },
      "outputs": [
        {
          "output_type": "stream",
          "name": "stdout",
          "text": [
            "price                int64\n",
            "area                 int64\n",
            "bedrooms             int64\n",
            "bathrooms            int64\n",
            "stories              int64\n",
            "mainroad            object\n",
            "guestroom           object\n",
            "basement            object\n",
            "hotwaterheating     object\n",
            "airconditioning     object\n",
            "parking              int64\n",
            "prefarea            object\n",
            "furnishingstatus    object\n",
            "dtype: object\n",
            "              price          area    bedrooms   bathrooms     stories  \\\n",
            "count  5.450000e+02    545.000000  545.000000  545.000000  545.000000   \n",
            "mean   4.766729e+06   5150.541284    2.965138    1.286239    1.805505   \n",
            "std    1.870440e+06   2170.141023    0.738064    0.502470    0.867492   \n",
            "min    1.750000e+06   1650.000000    1.000000    1.000000    1.000000   \n",
            "25%    3.430000e+06   3600.000000    2.000000    1.000000    1.000000   \n",
            "50%    4.340000e+06   4600.000000    3.000000    1.000000    2.000000   \n",
            "75%    5.740000e+06   6360.000000    3.000000    2.000000    2.000000   \n",
            "90%    7.350000e+06   7980.000000    4.000000    2.000000    3.000000   \n",
            "max    1.330000e+07  16200.000000    6.000000    4.000000    4.000000   \n",
            "\n",
            "          parking  \n",
            "count  545.000000  \n",
            "mean     0.693578  \n",
            "std      0.861586  \n",
            "min      0.000000  \n",
            "25%      0.000000  \n",
            "50%      0.000000  \n",
            "75%      1.000000  \n",
            "90%      2.000000  \n",
            "max      3.000000  \n",
            "['price', 'area', 'bedrooms', 'bathrooms', 'stories', 'mainroad', 'guestroom', 'basement', 'hotwaterheating', 'airconditioning', 'parking', 'prefarea', 'furnishingstatus']\n"
          ]
        }
      ],
      "source": [
        "   import pandas as pd\n",
        "   import matplotlib.pyplot as plt\n",
        "   import seaborn as sns\n",
        "   sns.set(style=\"whitegrid\")\n",
        "   df = pd.read_csv('Housing.csv')\n",
        "   print(df.dtypes)\n",
        "   summary = df.describe(percentiles=[.25, .5, .75, .90])\n",
        "   print(summary)\n",
        "   columns = df.columns.tolist()\n",
        "   print(columns)\n",
        "   sns.pairplot(df)\n",
        "   plt.show()\n",
        "   correlation_matrix = df.corr()\n",
        "   sns.heatmap(correlation_matrix, annot=True, cmap='coolwarm', fmt='.2f')\n",
        "   plt.show()\n",
        "   # Identify the dependent and independent variables\n",
        "   dependent_var = 'Price'\n",
        "   independent_vars = df.select_dtypes(include=['number']).columns.tolist()\n",
        "   independent_vars.remove(dependent_var)\n",
        "\n",
        "   print(\"Dependent Variable:\", dependent_var)\n",
        "   print(\"Independent Variables:\", independent_vars)"
      ]
    }
  ]
}